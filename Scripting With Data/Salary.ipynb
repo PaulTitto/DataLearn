{
 "cells": [
  {
   "cell_type": "code",
   "execution_count": 1,
   "id": "0eb2025a",
   "metadata": {},
   "outputs": [],
   "source": [
    "import csv\n",
    "from time import sleep\n",
    "import json\n",
    "import requests\n",
    "from bs4 import BeautifulSoup\n",
    "import re"
   ]
  },
  {
   "cell_type": "code",
   "execution_count": 2,
   "id": "5d1d7eaa",
   "metadata": {},
   "outputs": [],
   "source": [
    "template = 'https://www.salary.com/research/salary/alternate/{}-salary/{}'"
   ]
  },
  {
   "cell_type": "code",
   "execution_count": 3,
   "id": "57f7d9f7",
   "metadata": {},
   "outputs": [],
   "source": [
    "position = 'senior-accountant'\n",
    "city = 'charlotte-nc'\n",
    "\n",
    "url = template.format(position, city)\n",
    "\n",
    "# request the raw html\n",
    "response = requests.get(url)"
   ]
  },
  {
   "cell_type": "code",
   "execution_count": 4,
   "id": "607ff3e0",
   "metadata": {},
   "outputs": [],
   "source": [
    "soup = BeautifulSoup(response.text, 'html.parser')"
   ]
  },
  {
   "cell_type": "code",
   "execution_count": 5,
   "id": "c964abf1",
   "metadata": {},
   "outputs": [],
   "source": [
    "pattern = re.compile(r'Occupation')\n",
    "script = soup.find('script', {'type': 'application/ld+json'}, text=pattern)"
   ]
  },
  {
   "cell_type": "code",
   "execution_count": 6,
   "id": "7d735cc3",
   "metadata": {},
   "outputs": [
    {
     "data": {
      "text/plain": [
       "<script type=\"application/ld+json\">\n",
       " {\n",
       "    \"@context\": \"http://schema.org\",\n",
       "    \"@type\": \"Occupation\",\n",
       "    \"name\": \"Senior Accountant\",\n",
       "    \"mainEntityOfPage\": {\n",
       "        \"@type\": \"WebPage\",\n",
       "        \"lastReviewed\": \"2022-04-26T00:00:00Z\"\n",
       "    },\n",
       "    \"description\": \"The Senior Accountant ensures the accuracy of entries to ledger accounts and reconciles subsidiary ledger accounts to the general ledger. Maintains financial records and ensures that financial transactions are properly recorded. Being a Senior Accountant analyzes current costs, revenues, financial commitments, and obligations incurred to predict future revenues and expenses. Prepares complex balance sheets, profit and loss statements and other financial reports. In addition, Senior Accountant may supervise and guide lower-level accountants. Requires a bachelor&#39;s degree. May require CPA certification. Typically reports to a supervisor or manager. Being a Senior Accountant contributes to moderately complex aspects of a project. Work is generally independent and collaborative in nature. Working as a Senior Accountant typically requires 4 to 7 years of related experience.\",\n",
       "    \"estimatedSalary\": [{\n",
       "    \"@type\": \"MonetaryAmountDistribution\",\n",
       "    \"name\": \"base\",\n",
       "    \"currency\": \"USD\",\n",
       "    \"duration\" : \"P1Y\",\n",
       "    \"percentile10\": \"67797\",\n",
       "    \"percentile25\": \"74990\",\n",
       "    \"median\": \"82890\",\n",
       "    \"percentile75\": \"91790\",\n",
       "    \"percentile90\": \"99893\"\n",
       "    },\n",
       "    {\n",
       "    \"@type\": \"MonetaryAmountDistribution\",\n",
       "    \"name\": \"total compensation\",\n",
       "    \"currency\": \"USD\",\n",
       "    \"duration\" : \"P1Y\",\n",
       "    \"percentile10\": \"68596\",\n",
       "    \"percentile25\": \"76790\",\n",
       "    \"median\": \"85790\",\n",
       "    \"percentile75\": \"96190\",\n",
       "    \"percentile90\": \"105659\"\n",
       "    }]\n",
       "        \n",
       "        ,\n",
       "        \"occupationLocation\": [{\n",
       "            \"@type\": \"City\",\n",
       "            \"name\": \"Charlotte, NC\"\n",
       "        }]\n",
       "        \n",
       "}\n",
       "</script>"
      ]
     },
     "execution_count": 6,
     "metadata": {},
     "output_type": "execute_result"
    }
   ],
   "source": [
    "script"
   ]
  },
  {
   "cell_type": "code",
   "execution_count": 7,
   "id": "a421179a",
   "metadata": {},
   "outputs": [],
   "source": [
    "json_raw = script.contents[0]"
   ]
  },
  {
   "cell_type": "code",
   "execution_count": 8,
   "id": "f775f1b8",
   "metadata": {},
   "outputs": [],
   "source": [
    "json_data = json.loads(json_raw)"
   ]
  },
  {
   "cell_type": "code",
   "execution_count": 9,
   "id": "f1e540d8",
   "metadata": {},
   "outputs": [
    {
     "data": {
      "text/plain": [
       "{'@context': 'http://schema.org',\n",
       " '@type': 'Occupation',\n",
       " 'name': 'Senior Accountant',\n",
       " 'mainEntityOfPage': {'@type': 'WebPage',\n",
       "  'lastReviewed': '2022-04-26T00:00:00Z'},\n",
       " 'description': 'The Senior Accountant ensures the accuracy of entries to ledger accounts and reconciles subsidiary ledger accounts to the general ledger. Maintains financial records and ensures that financial transactions are properly recorded. Being a Senior Accountant analyzes current costs, revenues, financial commitments, and obligations incurred to predict future revenues and expenses. Prepares complex balance sheets, profit and loss statements and other financial reports. In addition, Senior Accountant may supervise and guide lower-level accountants. Requires a bachelor&#39;s degree. May require CPA certification. Typically reports to a supervisor or manager. Being a Senior Accountant contributes to moderately complex aspects of a project. Work is generally independent and collaborative in nature. Working as a Senior Accountant typically requires 4 to 7 years of related experience.',\n",
       " 'estimatedSalary': [{'@type': 'MonetaryAmountDistribution',\n",
       "   'name': 'base',\n",
       "   'currency': 'USD',\n",
       "   'duration': 'P1Y',\n",
       "   'percentile10': '67797',\n",
       "   'percentile25': '74990',\n",
       "   'median': '82890',\n",
       "   'percentile75': '91790',\n",
       "   'percentile90': '99893'},\n",
       "  {'@type': 'MonetaryAmountDistribution',\n",
       "   'name': 'total compensation',\n",
       "   'currency': 'USD',\n",
       "   'duration': 'P1Y',\n",
       "   'percentile10': '68596',\n",
       "   'percentile25': '76790',\n",
       "   'median': '85790',\n",
       "   'percentile75': '96190',\n",
       "   'percentile90': '105659'}],\n",
       " 'occupationLocation': [{'@type': 'City', 'name': 'Charlotte, NC'}]}"
      ]
     },
     "execution_count": 9,
     "metadata": {},
     "output_type": "execute_result"
    }
   ],
   "source": [
    "json_data"
   ]
  },
  {
   "cell_type": "code",
   "execution_count": 10,
   "id": "02b66043",
   "metadata": {},
   "outputs": [
    {
     "name": "stdout",
     "output_type": "stream",
     "text": [
      "('Senior Accountant', 'Charlotte, NC', 'The Senior Accountant ensures the accuracy of entries to ledger accounts and reconciles subsidiary ledger accounts to the general ledger. Maintains financial records and ensures that financial transactions are properly recorded. Being a Senior Accountant analyzes current costs, revenues, financial commitments, and obligations incurred to predict future revenues and expenses. Prepares complex balance sheets, profit and loss statements and other financial reports. In addition, Senior Accountant may supervise and guide lower-level accountants. Requires a bachelor&#39;s degree. May require CPA certification. Typically reports to a supervisor or manager. Being a Senior Accountant contributes to moderately complex aspects of a project. Work is generally independent and collaborative in nature. Working as a Senior Accountant typically requires 4 to 7 years of related experience.', '67797', '74990', '82890', '91790', '99893')\n"
     ]
    }
   ],
   "source": [
    "job_title = json_data['name']\n",
    "location = json_data['occupationLocation'][0]['name']\n",
    "description = json_data['description']\n",
    "\n",
    "ntile_10 = json_data['estimatedSalary'][0]['percentile10']\n",
    "ntile_25 = json_data['estimatedSalary'][0]['percentile25']\n",
    "ntile_50 = json_data['estimatedSalary'][0]['median']\n",
    "ntile_75 = json_data['estimatedSalary'][0]['percentile75']\n",
    "ntile_90 = json_data['estimatedSalary'][0]['percentile90']\n",
    "\n",
    "salary_data = (job_title, location, description, ntile_10, ntile_25, ntile_50, ntile_75, ntile_90)\n",
    "print(salary_data)"
   ]
  },
  {
   "cell_type": "code",
   "execution_count": 11,
   "id": "b88843f3",
   "metadata": {},
   "outputs": [],
   "source": [
    "def extract_salary_info(job_title, job_city):\n",
    "    \"\"\"Extract and return salary information\"\"\"\n",
    "    template = 'https://www.salary.com/research/salary/alternate/{}-salary/{}'\n",
    " \n",
    "    # build the url based on search criteria\n",
    "    url = template.format(job_title, job_city)\n",
    "\n",
    "    # request the raw html .. check for valid request\n",
    "    try:\n",
    "        response = requests.get(url)\n",
    "        if response.status_code != 200:\n",
    "            return None\n",
    "    except requests.exceptions.ConnectionError:\n",
    "        return None\n",
    "   \n",
    "    # parse the html and extract json data\n",
    "    soup = BeautifulSoup(response.text, 'html.parser')\n",
    "    pattern = re.compile(r'Occupation')\n",
    "    script = soup.find('script', {'type': 'application/ld+json'}, text=pattern)\n",
    "    json_raw = script.contents[0]\n",
    "    json_data = json.loads(json_raw)\n",
    "\n",
    "    # extract salary data\n",
    "    job_title = json_data['name']\n",
    "    location = json_data['occupationLocation'][0]['name']\n",
    "    description = json_data['description']\n",
    "\n",
    "    ntile_10 = json_data['estimatedSalary'][0]['percentile10']\n",
    "    ntile_25 = json_data['estimatedSalary'][0]['percentile25']\n",
    "    ntile_50 = json_data['estimatedSalary'][0]['median']\n",
    "    ntile_75 = json_data['estimatedSalary'][0]['percentile75']\n",
    "    ntile_90 = json_data['estimatedSalary'][0]['percentile90']\n",
    "\n",
    "    data = (job_title, location, description, ntile_10, ntile_25, ntile_50, ntile_75, ntile_90)\n",
    "    return data"
   ]
  },
  {
   "cell_type": "code",
   "execution_count": 20,
   "id": "aa5123c4",
   "metadata": {},
   "outputs": [
    {
     "ename": "OSError",
     "evalue": "[Errno 22] Invalid argument: 'https://github.com/israel-dryer/Salary-Dot-Com-Scraper/blob/37ad88e98413b04aec98bf17649a5c2654ebd727/largest_cities.csv'",
     "output_type": "error",
     "traceback": [
      "\u001b[1;31m---------------------------------------------------------------------------\u001b[0m",
      "\u001b[1;31mOSError\u001b[0m                                   Traceback (most recent call last)",
      "Input \u001b[1;32mIn [20]\u001b[0m, in \u001b[0;36m<cell line: 1>\u001b[1;34m()\u001b[0m\n\u001b[1;32m----> 1\u001b[0m \u001b[38;5;28;01mwith\u001b[39;00m \u001b[38;5;28;43mopen\u001b[39;49m\u001b[43m(\u001b[49m\u001b[38;5;124;43m'\u001b[39;49m\u001b[38;5;124;43mhttps://github.com/israel-dryer/Salary-Dot-Com-Scraper/blob/37ad88e98413b04aec98bf17649a5c2654ebd727/largest_cities.csv\u001b[39;49m\u001b[38;5;124;43m'\u001b[39;49m\u001b[43m,\u001b[49m\u001b[43m \u001b[49m\u001b[43mnewline\u001b[49m\u001b[38;5;241;43m=\u001b[39;49m\u001b[38;5;124;43m'\u001b[39;49m\u001b[38;5;124;43m'\u001b[39;49m\u001b[43m)\u001b[49m \u001b[38;5;28;01mas\u001b[39;00m f:\n\u001b[0;32m      2\u001b[0m     reader \u001b[38;5;241m=\u001b[39m csv\u001b[38;5;241m.\u001b[39mreader(f)\n\u001b[0;32m      3\u001b[0m     \u001b[38;5;66;03m# a reader typically returns each row as a list... so I need to flatten the list to make a single list\u001b[39;00m\n",
      "\u001b[1;31mOSError\u001b[0m: [Errno 22] Invalid argument: 'https://github.com/israel-dryer/Salary-Dot-Com-Scraper/blob/37ad88e98413b04aec98bf17649a5c2654ebd727/largest_cities.csv'"
     ]
    }
   ],
   "source": [
    "with open('https://github.com/israel-dryer/Salary-Dot-Com-Scraper/blob/37ad88e98413b04aec98bf17649a5c2654ebd727/largest_cities.csv', newline='') as f:\n",
    "    reader = csv.reader(f)\n",
    "    # a reader typically returns each row as a list... so I need to flatten the list to make a single list\n",
    "    cities = [city for row in reader for city in row]"
   ]
  },
  {
   "cell_type": "code",
   "execution_count": null,
   "id": "bbe93ffe",
   "metadata": {},
   "outputs": [],
   "source": [
    "print(cities[:10])"
   ]
  },
  {
   "cell_type": "code",
   "execution_count": null,
   "id": "3ce7f70f",
   "metadata": {},
   "outputs": [],
   "source": [
    "salary_data = []\n",
    "\n",
    "for city in cities:\n",
    "    result = extract_salary_info('senior-accountant', city)\n",
    "    if result:\n",
    "        salary_data.append(result)\n",
    "        sleep(0.5)"
   ]
  },
  {
   "cell_type": "code",
   "execution_count": 16,
   "id": "77c736ec",
   "metadata": {},
   "outputs": [],
   "source": [
    "with open('salary-results.csv', 'w', newline='', encoding='utf-8') as f:\n",
    "    writer = csv.writer(f)\n",
    "    writer.writerow(['Title','Location', 'Description', 'nTile10', 'nTile25', 'nTile50', 'nTile75', 'nTile90'])\n",
    "    writer.writerows(salary_data)"
   ]
  },
  {
   "cell_type": "code",
   "execution_count": 17,
   "id": "664ece3b",
   "metadata": {},
   "outputs": [],
   "source": [
    "# print the first 5 records\n",
    "for row in salary_data[:5]:\n",
    "    print(row)"
   ]
  },
  {
   "cell_type": "code",
   "execution_count": 18,
   "id": "c625db78",
   "metadata": {},
   "outputs": [],
   "source": [
    "def main(job_title):\n",
    "    \"\"\"Extract salary data from top us cities\"\"\"\n",
    "    \n",
    "    # get the list of largest us cities\n",
    "    with open('largest_cities.csv', newline='') as f:\n",
    "        reader = csv.reader(f)\n",
    "        # a reader typically returns each row as a list... so I need to flatten the list to make a single list\n",
    "        cities = [city for row in reader for city in row]\n",
    "        \n",
    "    # extract salary data for each city\n",
    "    salary_data = []\n",
    "    for city in cities:\n",
    "        result = extract_salary_info(job_title, city)\n",
    "        if result:\n",
    "            salary_data.append(result)\n",
    "            sleep(0.5)\n",
    "            \n",
    "    # save data to csv file\n",
    "    with open('salary-results.csv', 'w', newline='', encoding='utf-8') as f:\n",
    "        writer = csv.writer(f)\n",
    "        writer.writerow(['Title','Location', 'Description', 'nTile10', 'nTile25', 'nTile50', 'nTile75', 'nTile90'])\n",
    "        writer.writerows(salary_data)\n",
    "        \n",
    "    return salary_data"
   ]
  },
  {
   "cell_type": "code",
   "execution_count": null,
   "id": "c8cba741",
   "metadata": {},
   "outputs": [],
   "source": []
  }
 ],
 "metadata": {
  "kernelspec": {
   "display_name": "Python 3 (ipykernel)",
   "language": "python",
   "name": "python3"
  },
  "language_info": {
   "codemirror_mode": {
    "name": "ipython",
    "version": 3
   },
   "file_extension": ".py",
   "mimetype": "text/x-python",
   "name": "python",
   "nbconvert_exporter": "python",
   "pygments_lexer": "ipython3",
   "version": "3.9.7"
  }
 },
 "nbformat": 4,
 "nbformat_minor": 5
}
