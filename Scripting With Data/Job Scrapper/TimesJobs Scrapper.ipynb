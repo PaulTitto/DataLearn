{
 "cells": [
  {
   "cell_type": "code",
   "execution_count": 1,
   "id": "5dd9f0c8",
   "metadata": {},
   "outputs": [],
   "source": [
    "from bs4 import BeautifulSoup\n",
    "import requests\n",
    "import time"
   ]
  },
  {
   "cell_type": "code",
   "execution_count": 2,
   "id": "12644936",
   "metadata": {},
   "outputs": [
    {
     "name": "stdout",
     "output_type": "stream",
     "text": [
      "Put some skills taht you are not familiar with\n",
      ">Machine Learning\n",
      "Filtering out Machine Learning\n"
     ]
    }
   ],
   "source": [
    "# This is to filter out skills that you dont want job for\n",
    "print(\"Put some skills taht you are not familiar with\")\n",
    "unfamiliar_skils = input(\">\")\n",
    "print(f\"Filtering out {unfamiliar_skils}\")"
   ]
  },
  {
   "cell_type": "code",
   "execution_count": 19,
   "id": "3491a2f2",
   "metadata": {},
   "outputs": [],
   "source": [
    "# Function to scrap jobs data frim timesjobs.com\n",
    "\n",
    "def find_jobs():\n",
    "    # link of the jobs\n",
    "    html_text = requests.get('https://www.timesjobs.com/candidate/job-search.html?searchType=personalizedSearch&from=submit&txtKeywords=Python&txtLocation=').text\n",
    "    \n",
    "    # Parsing the html page that we have received in html_text\n",
    "    soup = BeautifulSoup(html_text, 'html.parser')\n",
    "    \n",
    "    # Fetching all jobs from page\n",
    "    jobs = soup.find_all('li', class_='clearfix job-bx wht-shd-bx')\n",
    "    \n",
    "    # Running a loop over all jobs\n",
    "    for index,job in enumerate(jobs):\n",
    "        published_date = job.find('span', class_='sim-posted').span.text\n",
    "        \n",
    "        if 'few' in published_date:\n",
    "            company_name = job.find('h3', class_='joblist-comp-name').text.replace(' ', '')\n",
    "            skills = job.find('span', class_='srp-skills').text.replace(' ', '')\n",
    "            links = job.header.h2.a['href']\n",
    "            \n",
    "            if unfamiliar_skils not in skills:\n",
    "                \n",
    "                with open(f'{index}.txt','w') as f:\n",
    "                    f.write(f\"Company Name: {company_name.strip} \\n\")\n",
    "                    f.write(f\"Required skills: {skills.strip} \\n\")\n",
    "                    f.write(f\"More Info: {links} \\n\")\n",
    "                print(f\"Filed Saved {index}\")\n",
    "                "
   ]
  },
  {
   "cell_type": "code",
   "execution_count": null,
   "id": "b5ff3222",
   "metadata": {},
   "outputs": [
    {
     "name": "stdout",
     "output_type": "stream",
     "text": [
      "Filed Saved 2\n",
      "Waiting 10 minutes...\n"
     ]
    }
   ],
   "source": [
    "if __name__ == '__main__':\n",
    "    while True:\n",
    "        find_jobs()\n",
    "\n",
    "        # Putting scrapper to sleep for 10 mins so that it doesn't send too many requests to site.\n",
    "        time_wait = 10\n",
    "        print(f'Waiting {time_wait} minutes...')\n",
    "        time.sleep(time_wait*60)"
   ]
  },
  {
   "cell_type": "code",
   "execution_count": null,
   "id": "f7af6ed4",
   "metadata": {},
   "outputs": [],
   "source": []
  }
 ],
 "metadata": {
  "kernelspec": {
   "display_name": "Python 3 (ipykernel)",
   "language": "python",
   "name": "python3"
  },
  "language_info": {
   "codemirror_mode": {
    "name": "ipython",
    "version": 3
   },
   "file_extension": ".py",
   "mimetype": "text/x-python",
   "name": "python",
   "nbconvert_exporter": "python",
   "pygments_lexer": "ipython3",
   "version": "3.9.7"
  }
 },
 "nbformat": 4,
 "nbformat_minor": 5
}
