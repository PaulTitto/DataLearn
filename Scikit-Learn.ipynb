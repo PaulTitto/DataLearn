{
 "cells":[
  {
   "cell_type":"markdown",
   "source":[
    "## introduction Scikit Learn\n",
    "#### Hey this is our course fo A beginne's Guide to scikit Learn - Implement Scikit Learn in Logistic Regression\n",
    "https:\/\/medium.com\/edureka\/scikit-learn-machine-learning-7a2d92e4dd07"
   ],
   "attachments":{
    
   },
   "metadata":{
    "datalore":{
     "type":"MD",
     "hide_input_from_viewers":false,
     "hide_output_from_viewers":false
    }
   }
  },
  {
   "cell_type":"markdown",
   "source":[
    "#### What is Machine learning?\n",
    "\n",
    "> Machine learning is a type of artificial intelligence that allows software applications to learn from the data and become more accurate in predicting outcomes without human intervention."
   ],
   "attachments":{
    
   },
   "metadata":{
    "datalore":{
     "type":"MD",
     "hide_input_from_viewers":false,
     "hide_output_from_viewers":false
    }
   }
  },
  {
   "cell_type":"markdown",
   "source":[
    "There are types of machine learning\n",
    "* Supervised Learning\n",
    "* Unsupervised Learning\n",
    "* Reinforcement learning"
   ],
   "attachments":{
    
   },
   "metadata":{
    "datalore":{
     "type":"MD",
     "hide_input_from_viewers":false,
     "hide_output_from_viewers":false
    }
   }
  },
  {
   "cell_type":"markdown",
   "source":[
    "#### What is Scikit Learn\n",
    "> Scikit learn is a library used to perform machine learning in Python. Scikit learn is an open source library which is licensed under BSD and is reusable in various contexts, encouraging academic and commercial use.\n",
    "\n",
    "Apart from that, it also contains the following packages:\n",
    "* NumPy > pip3 install numpy\n",
    "* Matplotlib > pip3 install matplotlib\n",
    "* SciPy > pip3 install scipy\n",
    "* Pandas > pip3 install pandas"
   ],
   "attachments":{
    
   },
   "metadata":{
    "datalore":{
     "type":"MD",
     "hide_input_from_viewers":false,
     "hide_output_from_viewers":false
    }
   }
  },
  {
   "cell_type":"markdown",
   "source":[
    "### Just Example how to install package\n",
    "* !pip install numpy or py -m pip install numpy\n",
    "* !pip install matplotlib or py -m pip install matplotlib\n",
    "* !pip install scipy or py -m pip install scipy\n",
    "* !pip install pandas or py -m pip install pandas"
   ],
   "attachments":{
    
   },
   "metadata":{
    "datalore":{
     "type":"MD",
     "hide_input_from_viewers":false,
     "hide_output_from_viewers":false
    }
   }
  },
  {
   "cell_type":"markdown",
   "source":[
    "## Let's Implement\n",
    "example where we will take digits datasets and it will categorize the number for us"
   ],
   "attachments":{
    
   },
   "metadata":{
    "datalore":{
     "type":"MD",
     "hide_input_from_viewers":false,
     "hide_output_from_viewers":false
    }
   }
  },
  {
   "cell_type":"code",
   "source":[
    "# Import our Package\n",
    "import matplotlib.pyplot as plt\n",
    "from sklearn import datasets\n",
    "from sklearn import svm"
   ],
   "execution_count":1,
   "outputs":[
    
   ],
   "metadata":{
    "datalore":{
     "type":"CODE",
     "hide_input_from_viewers":false,
     "hide_output_from_viewers":false
    }
   }
  },
  {
   "cell_type":"code",
   "source":[
    "# Let's Take Datasets from sklearn\n",
    "digits= datasets.load_digits()\n",
    "print(digits.data)"
   ],
   "execution_count":2,
   "outputs":[
    {
     "name":"stdout",
     "text":[
      "[[ 0.  0.  5. ...  0.  0.  0.]\n",
      " [ 0.  0.  0. ... 10.  0.  0.]\n",
      " [ 0.  0.  0. ... 16.  9.  0.]\n",
      " ...\n",
      " [ 0.  0.  1. ...  6.  0.  0.]\n",
      " [ 0.  0.  2. ... 12.  0.  0.]\n",
      " [ 0.  0. 10. ... 12.  1.  0.]]\n"
     ],
     "output_type":"stream"
    }
   ],
   "metadata":{
    "datalore":{
     "type":"CODE",
     "hide_input_from_viewers":false,
     "hide_output_from_viewers":false
    }
   }
  },
  {
   "cell_type":"code",
   "source":[
    "digits = datasets.load_digits()\n",
    "print(\"Target of the data\")\n",
    "print(digits.target)\n",
    "print(\"-------------------------------\")\n",
    "print(\"Image of the data\")\n",
    "print(digits.images[0])"
   ],
   "execution_count":6,
   "outputs":[
    {
     "name":"stdout",
     "text":[
      "Target of the data\n",
      "[0 1 2 ... 8 9 8]\n",
      "-------------------------------\n",
      "Image of the data\n",
      "[[ 0.  0.  5. 13.  9.  1.  0.  0.]\n",
      " [ 0.  0. 13. 15. 10. 15.  5.  0.]\n",
      " [ 0.  3. 15.  2.  0. 11.  8.  0.]\n",
      " [ 0.  4. 12.  0.  0.  8.  8.  0.]\n",
      " [ 0.  5.  8.  0.  0.  9.  8.  0.]\n",
      " [ 0.  4. 11.  0.  1. 12.  7.  0.]\n",
      " [ 0.  2. 14.  5. 10. 12.  0.  0.]\n",
      " [ 0.  0.  6. 13. 10.  0.  0.  0.]]\n"
     ],
     "output_type":"stream"
    }
   ],
   "metadata":{
    "datalore":{
     "type":"CODE",
     "hide_input_from_viewers":false,
     "hide_output_from_viewers":false
    }
   }
  },
  {
   "cell_type":"markdown",
   "source":[
    "digits.target gives the ground truth for the digit dataset, that is the number corresponding to each digit image."
   ],
   "attachments":{
    
   },
   "metadata":{
    "datalore":{
     "type":"MD",
     "hide_input_from_viewers":false,
     "hide_output_from_viewers":false
    }
   }
  },
  {
   "cell_type":"markdown",
   "source":[
    "### Learning and Predicting\n",
    "> we need to predict the digits when an image is given. and to predict we need an estimator. In Scikit-Learn an estimator for classfication which is a python objecct that impements the methods fit(x,y), and predict(T)."
   ],
   "attachments":{
    
   },
   "metadata":{
    "datalore":{
     "type":"MD",
     "hide_input_from_viewers":false,
     "hide_output_from_viewers":false
    }
   }
  },
  {
   "cell_type":"code",
   "source":[
    "import matplotlib.pyplot as plt\n",
    "from sklearn import datasets\n",
    "from sklearn import svm"
   ],
   "execution_count":22,
   "outputs":[
    
   ],
   "metadata":{
    "datalore":{
     "type":"CODE",
     "hide_input_from_viewers":false,
     "hide_output_from_viewers":false
    }
   }
  },
  {
   "cell_type":"code",
   "source":[
    "digits= datasets.load_digits()\n",
    "# Dataset\n",
    "clf = svm.SVC(gamma=0.001, C=100)\n",
    "print(len(digits.data))\n",
    "x,y=digits.data[:-1],digits.target[:-1]\n",
    "# Train the data\n",
    "clf.fit(x,y)\n",
    "print('Prediction:', clf.predict(digits.data[:-1])) \n",
    "# Predict data\n",
    "plt.imshow(digits.images[-1], cmap=plt.cm.gray_r, interpolation=\"nearest\")\n",
    "plt.show()"
   ],
   "execution_count":30,
   "outputs":[
    {
     "name":"stdout",
     "text":[
      "1797\n",
      "Prediction: [0 1 2 ... 0 8 9]\n"
     ],
     "output_type":"stream"
    },
    {
     "data":{
      "image\/png":"[encoded data removed]"
     },
     "metadata":{
      "image\/png":{
       
      }
     },
     "output_type":"display_data"
    }
   ],
   "metadata":{
    "datalore":{
     "type":"CODE",
     "hide_input_from_viewers":false,
     "hide_output_from_viewers":false
    }
   }
  },
  {
   "cell_type":"markdown",
   "source":[
    "we have used this data as a learning data, where we need to test the last element and first negative element.  Also, we need to check whether the machine has predicted the right data or not."
   ],
   "attachments":{
    
   },
   "metadata":{
    "datalore":{
     "type":"MD",
     "hide_input_from_viewers":false,
     "hide_output_from_viewers":false
    }
   }
  },
  {
   "cell_type":"code",
   "source":[
    "import  matplotlib.pyplot as plt\n",
    "from sklearn import datasets\n",
    "from sklearn import svm"
   ],
   "execution_count":31,
   "outputs":[
    
   ],
   "metadata":{
    "datalore":{
     "type":"CODE",
     "hide_input_from_viewers":false,
     "hide_output_from_viewers":false
    }
   }
  },
  {
   "cell_type":"code",
   "source":[
    "digits = datasets.load_digits()\n",
    "# Join the images and target labels in a list\n",
    "image_and_labels = list(zip(digits.images,digits.target))"
   ],
   "execution_count":32,
   "outputs":[
    
   ],
   "metadata":{
    "datalore":{
     "type":"CODE",
     "hide_input_from_viewers":false,
     "hide_output_from_viewers":false
    }
   }
  },
  {
   "cell_type":"code",
   "source":[
    "# for every element in the list\n",
    "for index, (image, label) in enumerate(image_and_labels[:8]):\n",
    "    # initialize a subplots of 2*4 at the i+1-thposition\n",
    "    plt.subplot(2,4, index+1)\n",
    "    # Display images in all subplots\n",
    "    plt.imshow(image, cmap=plt.cm.gray_r, interpolation=\"nearest\")\n",
    "    # Add a tittle to each subplot\n",
    "    plt.title(\"Training: \" + str(label))\n",
    "\n",
    "# Show the plot\n",
    "plt.show()"
   ],
   "execution_count":34,
   "outputs":[
    {
     "data":{
      "image\/png":"[encoded data removed]"
     },
     "metadata":{
      "image\/png":{
       
      }
     },
     "output_type":"display_data"
    }
   ],
   "metadata":{
    "datalore":{
     "type":"CODE",
     "hide_input_from_viewers":false,
     "hide_output_from_viewers":false
    }
   }
  },
  {
   "cell_type":"code",
   "source":[
    
   ],
   "execution_count":null,
   "outputs":[
    
   ],
   "metadata":{
    "datalore":{
     "type":"CODE",
     "hide_input_from_viewers":false,
     "hide_output_from_viewers":false
    }
   }
  }
 ],
 "metadata":{
  "datalore":{
   "version":1,
   "computation_mode":"JUPYTER",
   "package_manager":"pip",
   "base_environment":"default",
   "packages":[
    
   ]
  }
 },
 "nbformat":4,
 "nbformat_minor":4
}