{
 "cells": [
  {
   "cell_type": "markdown",
   "id": "d014ca8f",
   "metadata": {},
   "source": [
    "## Use web scripting to get bank information"
   ]
  },
  {
   "cell_type": "markdown",
   "id": "e07f431f",
   "metadata": {},
   "source": [
    "#### install libraries you may need here."
   ]
  },
  {
   "cell_type": "code",
   "execution_count": 16,
   "id": "d2222fe7",
   "metadata": {},
   "outputs": [
    {
     "name": "stdout",
     "output_type": "stream",
     "text": [
      "Collecting html5lib\n",
      "  Downloading html5lib-1.1-py2.py3-none-any.whl (112 kB)\n",
      "Requirement already satisfied: six>=1.9 in d:\\jupyter\\project\\.env\\lib\\site-packages (from html5lib) (1.16.0)\n",
      "Requirement already satisfied: webencodings in d:\\jupyter\\project\\.env\\lib\\site-packages (from html5lib) (0.5.1)\n",
      "Installing collected packages: html5lib\n",
      "Successfully installed html5lib-1.1\n"
     ]
    }
   ],
   "source": [
    "#! pip instal pandas\n",
    "#!pip install bs4\n",
    "# !pip install requests\n",
    "# !pip install html5lib"
   ]
  },
  {
   "cell_type": "markdown",
   "id": "cfd32000",
   "metadata": {},
   "source": [
    "#### Imports"
   ]
  },
  {
   "cell_type": "code",
   "execution_count": 17,
   "id": "90a91693",
   "metadata": {},
   "outputs": [],
   "source": [
    "from bs4 import BeautifulSoup\n",
    "import requests\n",
    "import pandas as pd"
   ]
  },
  {
   "cell_type": "markdown",
   "id": "e063b7ab",
   "metadata": {},
   "source": [
    "#### Extract Data Using Web Scripting\n",
    "the wikipedia webpage  https://en.wikipedia.org/wiki/List_of_largest_banks"
   ]
  },
  {
   "cell_type": "markdown",
   "id": "314c86cb",
   "metadata": {},
   "source": [
    "#### Webpage Contents"
   ]
  },
  {
   "cell_type": "code",
   "execution_count": 18,
   "id": "cec1ed76",
   "metadata": {},
   "outputs": [],
   "source": [
    "response = requests.get(\"https://en.wikipedia.org/wiki/List_of_largest_banks\")\n",
    "html_data = response.content"
   ]
  },
  {
   "cell_type": "code",
   "execution_count": 19,
   "id": "8c2d8493",
   "metadata": {},
   "outputs": [
    {
     "name": "stdout",
     "output_type": "stream",
     "text": [
      "b'List of largest banks -'\n"
     ]
    }
   ],
   "source": [
    "##### Print our html_data\n",
    "print(html_data[101:124])"
   ]
  },
  {
   "cell_type": "markdown",
   "id": "8beaa8b5",
   "metadata": {},
   "source": [
    "#### Scripting the Data"
   ]
  },
  {
   "cell_type": "code",
   "execution_count": 22,
   "id": "a33ba149",
   "metadata": {},
   "outputs": [],
   "source": [
    "# replace the dots below\n",
    "soup = BeautifulSoup(html_data, \"html.parser\")"
   ]
  },
  {
   "cell_type": "markdown",
   "id": "3c95b99e",
   "metadata": {},
   "source": [
    "##### Load the data from the By market capitalization table into a pandas dataframe."
   ]
  },
  {
   "cell_type": "code",
   "execution_count": 30,
   "id": "4a1c9431",
   "metadata": {},
   "outputs": [
    {
     "name": "stderr",
     "output_type": "stream",
     "text": [
      "C:\\Users\\User\\AppData\\Local\\Temp/ipykernel_2608/2040281817.py:8: FutureWarning: The frame.append method is deprecated and will be removed from pandas in a future version. Use pandas.concat instead.\n",
      "  data = data.append({\"Name\": bank_name,\n",
      "C:\\Users\\User\\AppData\\Local\\Temp/ipykernel_2608/2040281817.py:8: FutureWarning: The frame.append method is deprecated and will be removed from pandas in a future version. Use pandas.concat instead.\n",
      "  data = data.append({\"Name\": bank_name,\n",
      "C:\\Users\\User\\AppData\\Local\\Temp/ipykernel_2608/2040281817.py:8: FutureWarning: The frame.append method is deprecated and will be removed from pandas in a future version. Use pandas.concat instead.\n",
      "  data = data.append({\"Name\": bank_name,\n",
      "C:\\Users\\User\\AppData\\Local\\Temp/ipykernel_2608/2040281817.py:8: FutureWarning: The frame.append method is deprecated and will be removed from pandas in a future version. Use pandas.concat instead.\n",
      "  data = data.append({\"Name\": bank_name,\n",
      "C:\\Users\\User\\AppData\\Local\\Temp/ipykernel_2608/2040281817.py:8: FutureWarning: The frame.append method is deprecated and will be removed from pandas in a future version. Use pandas.concat instead.\n",
      "  data = data.append({\"Name\": bank_name,\n",
      "C:\\Users\\User\\AppData\\Local\\Temp/ipykernel_2608/2040281817.py:8: FutureWarning: The frame.append method is deprecated and will be removed from pandas in a future version. Use pandas.concat instead.\n",
      "  data = data.append({\"Name\": bank_name,\n",
      "C:\\Users\\User\\AppData\\Local\\Temp/ipykernel_2608/2040281817.py:8: FutureWarning: The frame.append method is deprecated and will be removed from pandas in a future version. Use pandas.concat instead.\n",
      "  data = data.append({\"Name\": bank_name,\n",
      "C:\\Users\\User\\AppData\\Local\\Temp/ipykernel_2608/2040281817.py:8: FutureWarning: The frame.append method is deprecated and will be removed from pandas in a future version. Use pandas.concat instead.\n",
      "  data = data.append({\"Name\": bank_name,\n",
      "C:\\Users\\User\\AppData\\Local\\Temp/ipykernel_2608/2040281817.py:8: FutureWarning: The frame.append method is deprecated and will be removed from pandas in a future version. Use pandas.concat instead.\n",
      "  data = data.append({\"Name\": bank_name,\n",
      "C:\\Users\\User\\AppData\\Local\\Temp/ipykernel_2608/2040281817.py:8: FutureWarning: The frame.append method is deprecated and will be removed from pandas in a future version. Use pandas.concat instead.\n",
      "  data = data.append({\"Name\": bank_name,\n",
      "C:\\Users\\User\\AppData\\Local\\Temp/ipykernel_2608/2040281817.py:8: FutureWarning: The frame.append method is deprecated and will be removed from pandas in a future version. Use pandas.concat instead.\n",
      "  data = data.append({\"Name\": bank_name,\n",
      "C:\\Users\\User\\AppData\\Local\\Temp/ipykernel_2608/2040281817.py:8: FutureWarning: The frame.append method is deprecated and will be removed from pandas in a future version. Use pandas.concat instead.\n",
      "  data = data.append({\"Name\": bank_name,\n",
      "C:\\Users\\User\\AppData\\Local\\Temp/ipykernel_2608/2040281817.py:8: FutureWarning: The frame.append method is deprecated and will be removed from pandas in a future version. Use pandas.concat instead.\n",
      "  data = data.append({\"Name\": bank_name,\n",
      "C:\\Users\\User\\AppData\\Local\\Temp/ipykernel_2608/2040281817.py:8: FutureWarning: The frame.append method is deprecated and will be removed from pandas in a future version. Use pandas.concat instead.\n",
      "  data = data.append({\"Name\": bank_name,\n",
      "C:\\Users\\User\\AppData\\Local\\Temp/ipykernel_2608/2040281817.py:8: FutureWarning: The frame.append method is deprecated and will be removed from pandas in a future version. Use pandas.concat instead.\n",
      "  data = data.append({\"Name\": bank_name,\n",
      "C:\\Users\\User\\AppData\\Local\\Temp/ipykernel_2608/2040281817.py:8: FutureWarning: The frame.append method is deprecated and will be removed from pandas in a future version. Use pandas.concat instead.\n",
      "  data = data.append({\"Name\": bank_name,\n",
      "C:\\Users\\User\\AppData\\Local\\Temp/ipykernel_2608/2040281817.py:8: FutureWarning: The frame.append method is deprecated and will be removed from pandas in a future version. Use pandas.concat instead.\n",
      "  data = data.append({\"Name\": bank_name,\n",
      "C:\\Users\\User\\AppData\\Local\\Temp/ipykernel_2608/2040281817.py:8: FutureWarning: The frame.append method is deprecated and will be removed from pandas in a future version. Use pandas.concat instead.\n",
      "  data = data.append({\"Name\": bank_name,\n",
      "C:\\Users\\User\\AppData\\Local\\Temp/ipykernel_2608/2040281817.py:8: FutureWarning: The frame.append method is deprecated and will be removed from pandas in a future version. Use pandas.concat instead.\n",
      "  data = data.append({\"Name\": bank_name,\n",
      "C:\\Users\\User\\AppData\\Local\\Temp/ipykernel_2608/2040281817.py:8: FutureWarning: The frame.append method is deprecated and will be removed from pandas in a future version. Use pandas.concat instead.\n",
      "  data = data.append({\"Name\": bank_name,\n",
      "C:\\Users\\User\\AppData\\Local\\Temp/ipykernel_2608/2040281817.py:8: FutureWarning: The frame.append method is deprecated and will be removed from pandas in a future version. Use pandas.concat instead.\n",
      "  data = data.append({\"Name\": bank_name,\n",
      "C:\\Users\\User\\AppData\\Local\\Temp/ipykernel_2608/2040281817.py:8: FutureWarning: The frame.append method is deprecated and will be removed from pandas in a future version. Use pandas.concat instead.\n",
      "  data = data.append({\"Name\": bank_name,\n",
      "C:\\Users\\User\\AppData\\Local\\Temp/ipykernel_2608/2040281817.py:8: FutureWarning: The frame.append method is deprecated and will be removed from pandas in a future version. Use pandas.concat instead.\n",
      "  data = data.append({\"Name\": bank_name,\n",
      "C:\\Users\\User\\AppData\\Local\\Temp/ipykernel_2608/2040281817.py:8: FutureWarning: The frame.append method is deprecated and will be removed from pandas in a future version. Use pandas.concat instead.\n",
      "  data = data.append({\"Name\": bank_name,\n",
      "C:\\Users\\User\\AppData\\Local\\Temp/ipykernel_2608/2040281817.py:8: FutureWarning: The frame.append method is deprecated and will be removed from pandas in a future version. Use pandas.concat instead.\n",
      "  data = data.append({\"Name\": bank_name,\n",
      "C:\\Users\\User\\AppData\\Local\\Temp/ipykernel_2608/2040281817.py:8: FutureWarning: The frame.append method is deprecated and will be removed from pandas in a future version. Use pandas.concat instead.\n",
      "  data = data.append({\"Name\": bank_name,\n",
      "C:\\Users\\User\\AppData\\Local\\Temp/ipykernel_2608/2040281817.py:8: FutureWarning: The frame.append method is deprecated and will be removed from pandas in a future version. Use pandas.concat instead.\n",
      "  data = data.append({\"Name\": bank_name,\n",
      "C:\\Users\\User\\AppData\\Local\\Temp/ipykernel_2608/2040281817.py:8: FutureWarning: The frame.append method is deprecated and will be removed from pandas in a future version. Use pandas.concat instead.\n",
      "  data = data.append({\"Name\": bank_name,\n",
      "C:\\Users\\User\\AppData\\Local\\Temp/ipykernel_2608/2040281817.py:8: FutureWarning: The frame.append method is deprecated and will be removed from pandas in a future version. Use pandas.concat instead.\n",
      "  data = data.append({\"Name\": bank_name,\n",
      "C:\\Users\\User\\AppData\\Local\\Temp/ipykernel_2608/2040281817.py:8: FutureWarning: The frame.append method is deprecated and will be removed from pandas in a future version. Use pandas.concat instead.\n",
      "  data = data.append({\"Name\": bank_name,\n",
      "C:\\Users\\User\\AppData\\Local\\Temp/ipykernel_2608/2040281817.py:8: FutureWarning: The frame.append method is deprecated and will be removed from pandas in a future version. Use pandas.concat instead.\n",
      "  data = data.append({\"Name\": bank_name,\n",
      "C:\\Users\\User\\AppData\\Local\\Temp/ipykernel_2608/2040281817.py:8: FutureWarning: The frame.append method is deprecated and will be removed from pandas in a future version. Use pandas.concat instead.\n",
      "  data = data.append({\"Name\": bank_name,\n",
      "C:\\Users\\User\\AppData\\Local\\Temp/ipykernel_2608/2040281817.py:8: FutureWarning: The frame.append method is deprecated and will be removed from pandas in a future version. Use pandas.concat instead.\n",
      "  data = data.append({\"Name\": bank_name,\n",
      "C:\\Users\\User\\AppData\\Local\\Temp/ipykernel_2608/2040281817.py:8: FutureWarning: The frame.append method is deprecated and will be removed from pandas in a future version. Use pandas.concat instead.\n",
      "  data = data.append({\"Name\": bank_name,\n",
      "C:\\Users\\User\\AppData\\Local\\Temp/ipykernel_2608/2040281817.py:8: FutureWarning: The frame.append method is deprecated and will be removed from pandas in a future version. Use pandas.concat instead.\n",
      "  data = data.append({\"Name\": bank_name,\n",
      "C:\\Users\\User\\AppData\\Local\\Temp/ipykernel_2608/2040281817.py:8: FutureWarning: The frame.append method is deprecated and will be removed from pandas in a future version. Use pandas.concat instead.\n",
      "  data = data.append({\"Name\": bank_name,\n",
      "C:\\Users\\User\\AppData\\Local\\Temp/ipykernel_2608/2040281817.py:8: FutureWarning: The frame.append method is deprecated and will be removed from pandas in a future version. Use pandas.concat instead.\n",
      "  data = data.append({\"Name\": bank_name,\n",
      "C:\\Users\\User\\AppData\\Local\\Temp/ipykernel_2608/2040281817.py:8: FutureWarning: The frame.append method is deprecated and will be removed from pandas in a future version. Use pandas.concat instead.\n",
      "  data = data.append({\"Name\": bank_name,\n",
      "C:\\Users\\User\\AppData\\Local\\Temp/ipykernel_2608/2040281817.py:8: FutureWarning: The frame.append method is deprecated and will be removed from pandas in a future version. Use pandas.concat instead.\n",
      "  data = data.append({\"Name\": bank_name,\n",
      "C:\\Users\\User\\AppData\\Local\\Temp/ipykernel_2608/2040281817.py:8: FutureWarning: The frame.append method is deprecated and will be removed from pandas in a future version. Use pandas.concat instead.\n",
      "  data = data.append({\"Name\": bank_name,\n",
      "C:\\Users\\User\\AppData\\Local\\Temp/ipykernel_2608/2040281817.py:8: FutureWarning: The frame.append method is deprecated and will be removed from pandas in a future version. Use pandas.concat instead.\n",
      "  data = data.append({\"Name\": bank_name,\n",
      "C:\\Users\\User\\AppData\\Local\\Temp/ipykernel_2608/2040281817.py:8: FutureWarning: The frame.append method is deprecated and will be removed from pandas in a future version. Use pandas.concat instead.\n",
      "  data = data.append({\"Name\": bank_name,\n",
      "C:\\Users\\User\\AppData\\Local\\Temp/ipykernel_2608/2040281817.py:8: FutureWarning: The frame.append method is deprecated and will be removed from pandas in a future version. Use pandas.concat instead.\n",
      "  data = data.append({\"Name\": bank_name,\n",
      "C:\\Users\\User\\AppData\\Local\\Temp/ipykernel_2608/2040281817.py:8: FutureWarning: The frame.append method is deprecated and will be removed from pandas in a future version. Use pandas.concat instead.\n",
      "  data = data.append({\"Name\": bank_name,\n",
      "C:\\Users\\User\\AppData\\Local\\Temp/ipykernel_2608/2040281817.py:8: FutureWarning: The frame.append method is deprecated and will be removed from pandas in a future version. Use pandas.concat instead.\n",
      "  data = data.append({\"Name\": bank_name,\n",
      "C:\\Users\\User\\AppData\\Local\\Temp/ipykernel_2608/2040281817.py:8: FutureWarning: The frame.append method is deprecated and will be removed from pandas in a future version. Use pandas.concat instead.\n",
      "  data = data.append({\"Name\": bank_name,\n"
     ]
    },
    {
     "name": "stderr",
     "output_type": "stream",
     "text": [
      "C:\\Users\\User\\AppData\\Local\\Temp/ipykernel_2608/2040281817.py:8: FutureWarning: The frame.append method is deprecated and will be removed from pandas in a future version. Use pandas.concat instead.\n",
      "  data = data.append({\"Name\": bank_name,\n",
      "C:\\Users\\User\\AppData\\Local\\Temp/ipykernel_2608/2040281817.py:8: FutureWarning: The frame.append method is deprecated and will be removed from pandas in a future version. Use pandas.concat instead.\n",
      "  data = data.append({\"Name\": bank_name,\n",
      "C:\\Users\\User\\AppData\\Local\\Temp/ipykernel_2608/2040281817.py:8: FutureWarning: The frame.append method is deprecated and will be removed from pandas in a future version. Use pandas.concat instead.\n",
      "  data = data.append({\"Name\": bank_name,\n",
      "C:\\Users\\User\\AppData\\Local\\Temp/ipykernel_2608/2040281817.py:8: FutureWarning: The frame.append method is deprecated and will be removed from pandas in a future version. Use pandas.concat instead.\n",
      "  data = data.append({\"Name\": bank_name,\n"
     ]
    }
   ],
   "source": [
    "data = pd.DataFrame(columns=[\"Name\", \"Market Cap (US$ Billion)\"])\n",
    "\n",
    "for row in soup.find_all('tbody')[3].find_all('tr'):\n",
    "    col = row.find_all('td')\n",
    "    if col:\n",
    "        bank_name = col[1].find_all(\"a\")[1].text\n",
    "        market_cap = float(col[2].text)\n",
    "        data = data.append({\"Name\": bank_name,\n",
    "                            \"Market Cap (US$ Billion)\": market_cap},\n",
    "                           ignore_index=True)"
   ]
  },
  {
   "cell_type": "code",
   "execution_count": 31,
   "id": "e82c441d",
   "metadata": {},
   "outputs": [
    {
     "data": {
      "text/html": [
       "<div>\n",
       "<style scoped>\n",
       "    .dataframe tbody tr th:only-of-type {\n",
       "        vertical-align: middle;\n",
       "    }\n",
       "\n",
       "    .dataframe tbody tr th {\n",
       "        vertical-align: top;\n",
       "    }\n",
       "\n",
       "    .dataframe thead th {\n",
       "        text-align: right;\n",
       "    }\n",
       "</style>\n",
       "<table border=\"1\" class=\"dataframe\">\n",
       "  <thead>\n",
       "    <tr style=\"text-align: right;\">\n",
       "      <th></th>\n",
       "      <th>Name</th>\n",
       "      <th>Market Cap (US$ Billion)</th>\n",
       "    </tr>\n",
       "  </thead>\n",
       "  <tbody>\n",
       "    <tr>\n",
       "      <th>0</th>\n",
       "      <td>JPMorgan Chase</td>\n",
       "      <td>368.78</td>\n",
       "    </tr>\n",
       "    <tr>\n",
       "      <th>1</th>\n",
       "      <td>Industrial and Commercial Bank of China</td>\n",
       "      <td>295.65</td>\n",
       "    </tr>\n",
       "    <tr>\n",
       "      <th>2</th>\n",
       "      <td>Bank of America</td>\n",
       "      <td>279.73</td>\n",
       "    </tr>\n",
       "    <tr>\n",
       "      <th>3</th>\n",
       "      <td>Wells Fargo</td>\n",
       "      <td>214.34</td>\n",
       "    </tr>\n",
       "    <tr>\n",
       "      <th>4</th>\n",
       "      <td>China Construction Bank</td>\n",
       "      <td>207.98</td>\n",
       "    </tr>\n",
       "  </tbody>\n",
       "</table>\n",
       "</div>"
      ],
      "text/plain": [
       "                                      Name Market Cap (US$ Billion)\n",
       "0                           JPMorgan Chase                   368.78\n",
       "1  Industrial and Commercial Bank of China                   295.65\n",
       "2                          Bank of America                   279.73\n",
       "3                              Wells Fargo                   214.34\n",
       "4                  China Construction Bank                   207.98"
      ]
     },
     "execution_count": 31,
     "metadata": {},
     "output_type": "execute_result"
    }
   ],
   "source": [
    "data.head()"
   ]
  },
  {
   "cell_type": "code",
   "execution_count": 33,
   "id": "1738023b",
   "metadata": {},
   "outputs": [],
   "source": [
    "data = data.to_json(orient='index')"
   ]
  },
  {
   "cell_type": "code",
   "execution_count": 34,
   "id": "dd63ee07",
   "metadata": {},
   "outputs": [
    {
     "name": "stdout",
     "output_type": "stream",
     "text": [
      "{\"0\":{\"Name\":\"JPMorgan Chase\",\"Market Cap (US$ Billion)\":368.78},\"1\":{\"Name\":\"Industrial and Commercial Bank of China\",\"Market Cap (US$ Billion)\":295.65},\"2\":{\"Name\":\"Bank of America\",\"Market Cap (US$ Billion)\":279.73},\"3\":{\"Name\":\"Wells Fargo\",\"Market Cap (US$ Billion)\":214.34},\"4\":{\"Name\":\"China Construction Bank\",\"Market Cap (US$ Billion)\":207.98},\"5\":{\"Name\":\"Agricultural Bank of China\",\"Market Cap (US$ Billion)\":181.49},\"6\":{\"Name\":\"HSBC Holdings PLC\",\"Market Cap (US$ Billion)\":169.47},\"7\":{\"Name\":\"Citigroup Inc.\",\"Market Cap (US$ Billion)\":163.58},\"8\":{\"Name\":\"Bank of China\",\"Market Cap (US$ Billion)\":151.15},\"9\":{\"Name\":\"China Merchants Bank\",\"Market Cap (US$ Billion)\":133.37},\"10\":{\"Name\":\"Royal Bank of Canada\",\"Market Cap (US$ Billion)\":113.8},\"11\":{\"Name\":\"Toronto-Dominion Bank\",\"Market Cap (US$ Billion)\":106.61},\"12\":{\"Name\":\"Commonwealth Bank\",\"Market Cap (US$ Billion)\":99.77},\"13\":{\"Name\":\"HDFC Bank\",\"Market Cap (US$ Billion)\":105.9},\"14\":{\"Name\":\"U.S. Bancorp\",\"Market Cap (US$ Billion)\":84.4},\"15\":{\"Name\":\"Goldman Sachs\",\"Market Cap (US$ Billion)\":78.7},\"16\":{\"Name\":\"Banco Santander\",\"Market Cap (US$ Billion)\":75.47},\"17\":{\"Name\":\"Banco Bradesco\",\"Market Cap (US$ Billion)\":74.67},\"18\":{\"Name\":\"Morgan Stanley\",\"Market Cap (US$ Billion)\":73.93},\"19\":{\"Name\":\"Westpac\",\"Market Cap (US$ Billion)\":67.84},\"20\":{\"Name\":\"Mitsubishi UFJ Financial Group\",\"Market Cap (US$ Billion)\":66.2},\"21\":{\"Name\":\"Scotiabank\",\"Market Cap (US$ Billion)\":65.48},\"22\":{\"Name\":\"PNC Financial Services\",\"Market Cap (US$ Billion)\":63.11},\"23\":{\"Name\":\"Bank of Communications\",\"Market Cap (US$ Billion)\":61.85},\"24\":{\"Name\":\"BNP Paribas\",\"Market Cap (US$ Billion)\":59.36},\"25\":{\"Name\":\"Australia and New Zealand Banking Group\",\"Market Cap (US$ Billion)\":54.88},\"26\":{\"Name\":\"National Australia Bank\",\"Market Cap (US$ Billion)\":51.68},\"27\":{\"Name\":\"Lloyds Banking Group\",\"Market Cap (US$ Billion)\":51.19},\"28\":{\"Name\":\"Sumitomo Mitsui Financial Group\",\"Market Cap (US$ Billion)\":49.85},\"29\":{\"Name\":\"Bank of Montreal\",\"Market Cap (US$ Billion)\":48.12},\"30\":{\"Name\":\"UBS\",\"Market Cap (US$ Billion)\":45.92},\"31\":{\"Name\":\"ING Group\",\"Market Cap (US$ Billion)\":44.97},\"32\":{\"Name\":\"Capital One\",\"Market Cap (US$ Billion)\":43.22},\"33\":{\"Name\":\"The Bank of New York Mellon\",\"Market Cap (US$ Billion)\":42.58},\"34\":{\"Name\":\"China Minsheng Bank\",\"Market Cap (US$ Billion)\":39.13},\"35\":{\"Name\":\"China CITIC Bank\",\"Market Cap (US$ Billion)\":38.55},\"36\":{\"Name\":\"Banco Bilbao Vizcaya Argentaria\",\"Market Cap (US$ Billion)\":37.42},\"37\":{\"Name\":\"Mizuho Financial Group\",\"Market Cap (US$ Billion)\":36.95},\"38\":{\"Name\":\"Intesa Sanpaolo\",\"Market Cap (US$ Billion)\":36.9},\"39\":{\"Name\":\"Cr\\u00e9dit Agricole\",\"Market Cap (US$ Billion)\":34.89},\"40\":{\"Name\":\"Canadian Imperial Bank of Commerce\",\"Market Cap (US$ Billion)\":34.87},\"41\":{\"Name\":\"Royal Bank of Scotland\",\"Market Cap (US$ Billion)\":33.95},\"42\":{\"Name\":\"Barclays\",\"Market Cap (US$ Billion)\":33.26},\"43\":{\"Name\":\"Credit Suisse\",\"Market Cap (US$ Billion)\":30.75},\"44\":{\"Name\":\"Nordea\",\"Market Cap (US$ Billion)\":29.59},\"45\":{\"Name\":\"Standard Chartered\",\"Market Cap (US$ Billion)\":29.37},\"46\":{\"Name\":\"KBC Bank\",\"Market Cap (US$ Billion)\":27.4},\"47\":{\"Name\":\"UniCredit\",\"Market Cap (US$ Billion)\":26.88},\"48\":{\"Name\":\"Soci\\u00e9t\\u00e9 G\\u00e9n\\u00e9rale\",\"Market Cap (US$ Billion)\":21.27},\"49\":{\"Name\":\"Deutsche Bank\",\"Market Cap (US$ Billion)\":15.77}}\n"
     ]
    }
   ],
   "source": [
    "print(data)"
   ]
  },
  {
   "cell_type": "code",
   "execution_count": null,
   "id": "8b36bd54",
   "metadata": {},
   "outputs": [],
   "source": []
  }
 ],
 "metadata": {
  "kernelspec": {
   "display_name": "Python 3 (ipykernel)",
   "language": "python",
   "name": "python3"
  },
  "language_info": {
   "codemirror_mode": {
    "name": "ipython",
    "version": 3
   },
   "file_extension": ".py",
   "mimetype": "text/x-python",
   "name": "python",
   "nbconvert_exporter": "python",
   "pygments_lexer": "ipython3",
   "version": "3.9.7"
  }
 },
 "nbformat": 4,
 "nbformat_minor": 5
}
