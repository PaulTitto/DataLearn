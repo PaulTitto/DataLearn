{
  "nbformat": 4,
  "nbformat_minor": 0,
  "metadata": {
    "colab": {
      "name": "ETL Dealer Ship.ipynb",
      "provenance": [],
      "collapsed_sections": []
    },
    "kernelspec": {
      "name": "python3",
      "display_name": "Python 3"
    },
    "language_info": {
      "name": "python"
    }
  },
  "cells": [
    {
      "cell_type": "markdown",
      "source": [
        "# My Projects For my data engineer"
      ],
      "metadata": {
        "id": "BILcS_a4voFM"
      }
    },
    {
      "cell_type": "code",
      "source": [
        "import glob                         # this module helps in selecting files \n",
        "import pandas as pd                 # this module helps in processing CSV files\n",
        "import xml.etree.ElementTree as ET  # this module helps in processing XML files.\n",
        "from datetime import datetime"
      ],
      "metadata": {
        "id": "yGF_jnf1y3Cw"
      },
      "execution_count": 1,
      "outputs": []
    },
    {
      "cell_type": "markdown",
      "source": [
        "### Download Files"
      ],
      "metadata": {
        "id": "h4K7K_3Gv1JA"
      }
    },
    {
      "cell_type": "code",
      "source": [
        "# !wget https://cf-courses-data.s3.us.cloud-object-storage.appdomain.cloud/IBMDeveloperSkillsNetwork-PY0221EN-SkillsNetwork/labs/module%206/Lab%20-%20Extract%20Transform%20Load/data/datasource.zip"
      ],
      "metadata": {
        "id": "LDXhDUSXv6z5"
      },
      "execution_count": 2,
      "outputs": []
    },
    {
      "cell_type": "code",
      "source": [
        "### Unzip Files\n",
        "# !unzip datasource.zip -d dealership_data"
      ],
      "metadata": {
        "id": "2Ilhgzy-v9lZ"
      },
      "execution_count": 3,
      "outputs": []
    },
    {
      "cell_type": "markdown",
      "source": [
        "## About the Data\n",
        "The file dealership_data contains CSV, JSON, and XML files for used car data which contain features named car_model, year_of_manufacture, price, and fuel."
      ],
      "metadata": {
        "id": "BHAZGAHuwduy"
      }
    },
    {
      "cell_type": "markdown",
      "source": [
        "### Set Paths"
      ],
      "metadata": {
        "id": "QqiiZZ9GwqwJ"
      }
    },
    {
      "cell_type": "code",
      "source": [
        "tmpfile = \"dealership_temp.tmp\"\n",
        "logfile = \"dealership_logfile.txt\"\n",
        "targetfile = \"dealer_transformed_data.csv\""
      ],
      "metadata": {
        "id": "OGFtbzjqwtf5"
      },
      "execution_count": 4,
      "outputs": []
    },
    {
      "cell_type": "markdown",
      "source": [
        "### Extract"
      ],
      "metadata": {
        "id": "htgPhPGrw9t2"
      }
    },
    {
      "cell_type": "markdown",
      "source": [
        "#### CSV Extract Function"
      ],
      "metadata": {
        "id": "dIzmBtn6xBHV"
      }
    },
    {
      "cell_type": "code",
      "source": [
        "def extract_from_csv(files):\n",
        "  df = pd.read_csv(files)\n",
        "  return df"
      ],
      "metadata": {
        "id": "NIe8dscCxI_p"
      },
      "execution_count": 5,
      "outputs": []
    },
    {
      "cell_type": "markdown",
      "source": [
        "#### Extract Function"
      ],
      "metadata": {
        "id": "F5pO0zM7xUre"
      }
    },
    {
      "cell_type": "code",
      "source": [
        "def extract():\n",
        "    extract_data = pd.DataFrame(columns=[\"car_model\", \"years_of_manufacture\", \"price\", \"fuel\"])\n",
        "\n",
        "    for csvfile in glob.glob(\"dealership_data/*.csv\"):\n",
        "      extract_data = extract_data.append(extract_from_csv(csvfile), ignore_index=True)\n",
        "\n",
        "    return extract_data\n"
      ],
      "metadata": {
        "id": "xQt7pHFAxhhX"
      },
      "execution_count": 6,
      "outputs": []
    },
    {
      "cell_type": "markdown",
      "source": [
        "#### Transform"
      ],
      "metadata": {
        "id": "OHZGxbSyyt07"
      }
    },
    {
      "cell_type": "code",
      "source": [
        "def transform(data):\n",
        "    data[\"price\"] = round(data.price, 2)"
      ],
      "metadata": {
        "id": "Z0S-D4dsyyoA"
      },
      "execution_count": 12,
      "outputs": []
    },
    {
      "cell_type": "markdown",
      "source": [
        "#### Load"
      ],
      "metadata": {
        "id": "HxmXsadK0D1i"
      }
    },
    {
      "cell_type": "code",
      "source": [
        "def load(targetfile,data_to_load):\n",
        "    data_to_load.to_csv(targetfile) "
      ],
      "metadata": {
        "id": "rlRb9EC_0Qov"
      },
      "execution_count": 8,
      "outputs": []
    },
    {
      "cell_type": "markdown",
      "source": [
        "#### Logging"
      ],
      "metadata": {
        "id": "lOQICxmu0boV"
      }
    },
    {
      "cell_type": "code",
      "source": [
        "def log(message):\n",
        "    timestamp_format = '%Y-%h-%d-%H:%M:%S' # Year-Monthname-Day-Hour-Minute-Second\n",
        "    now = datetime.now() # get current timestamp\n",
        "    timestamp = now.strftime(timestamp_format)\n",
        "    with open(\"dealership_logfile.txt\",\"a\") as f:\n",
        "        f.write(timestamp + ',' + message + '\\n')"
      ],
      "metadata": {
        "id": "nQFyFbM12Ru7"
      },
      "execution_count": 9,
      "outputs": []
    },
    {
      "cell_type": "code",
      "source": [
        "log(\"ETL Job Started\") \n",
        "log(\"Extract phase Started\") \n",
        "\n",
        "extracted_data = extract() \n",
        "print(extracted_data)\n",
        "print(\"---------------------------------\")\n",
        "log(\"Extract phase Ended\") \n",
        "log(\"Transform phase Started\") \n",
        "\n",
        "transformed_data = transform(extracted_data) \n",
        "\n",
        "print(transformed_data)\n",
        "log(\"Transform phase Ended\") \n",
        "log(\"Load phase Started\") \n",
        "\n",
        "# load(targetfile,transformed_data) \n",
        "log(\"Load phase Ended\") \n",
        "log(\"ETL Job Ended\") "
      ],
      "metadata": {
        "colab": {
          "base_uri": "https://localhost:8080/"
        },
        "id": "kjG-vkMM2ZEw",
        "outputId": "9a942dd7-81fc-45b0-ab9f-66919d0222eb"
      },
      "execution_count": 13,
      "outputs": [
        {
          "output_type": "stream",
          "name": "stdout",
          "text": [
            "        car_model years_of_manufacture         price    fuel  \\\n",
            "0            ritz                  NaN   5000.000000  Petrol   \n",
            "1             sx4                  NaN   7089.552239  Diesel   \n",
            "2            ciaz                  NaN  10820.895522  Petrol   \n",
            "3         wagon r                  NaN   4253.731343  Petrol   \n",
            "4           swift                  NaN   6865.671642  Diesel   \n",
            "5   vitara brezza                  NaN  13805.970149  Diesel   \n",
            "6            ciaz                  NaN  10074.626866  Petrol   \n",
            "7         s cross                  NaN   9701.492537  Diesel   \n",
            "8            ciaz                  NaN  13059.701493  Diesel   \n",
            "9            ciaz                  NaN  11119.402985  Diesel   \n",
            "10       alto 800                  NaN   4253.731343  Petrol   \n",
            "11           ciaz                  NaN  10223.880597  Diesel   \n",
            "12           ciaz                  NaN  11194.029851  Petrol   \n",
            "13         ertiga                  NaN   9104.477612  Petrol   \n",
            "14          dzire                  NaN   3358.208955  Petrol   \n",
            "15         ertiga                  NaN  11567.164179  Diesel   \n",
            "16         ertiga                  NaN  10820.895522  Diesel   \n",
            "17         ertiga                  NaN  11567.164179  Diesel   \n",
            "18        wagon r                  NaN   4850.746269     CNG   \n",
            "19            sx4                  NaN   3955.223881  Petrol   \n",
            "20       alto k10                  NaN   4253.731343  Petrol   \n",
            "21          ignis                  NaN   7313.432836  Petrol   \n",
            "22            sx4                  NaN   6567.164179  Petrol   \n",
            "23       alto k10                  NaN   3731.343284  Petrol   \n",
            "24        wagon r                  NaN   4328.358209  Petrol   \n",
            "25          swift                  NaN   4477.611940  Petrol   \n",
            "26          swift                  NaN   6194.029851  Petrol   \n",
            "27          swift                  NaN   8955.223881  Petrol   \n",
            "28       alto k10                  NaN   2910.447761  Petrol   \n",
            "29           ciaz                  NaN  11119.402985  Diesel   \n",
            "\n",
            "    year_of_manufacture  \n",
            "0                2014.0  \n",
            "1                2013.0  \n",
            "2                2017.0  \n",
            "3                2011.0  \n",
            "4                2014.0  \n",
            "5                2018.0  \n",
            "6                2015.0  \n",
            "7                2015.0  \n",
            "8                2016.0  \n",
            "9                2015.0  \n",
            "10               2017.0  \n",
            "11               2015.0  \n",
            "12               2015.0  \n",
            "13               2015.0  \n",
            "14               2009.0  \n",
            "15               2016.0  \n",
            "16               2015.0  \n",
            "17               2016.0  \n",
            "18               2015.0  \n",
            "19               2010.0  \n",
            "20               2016.0  \n",
            "21               2017.0  \n",
            "22               2011.0  \n",
            "23               2014.0  \n",
            "24               2013.0  \n",
            "25               2011.0  \n",
            "26               2013.0  \n",
            "27               2017.0  \n",
            "28               2010.0  \n",
            "29               2015.0  \n",
            "---------------------------------\n",
            "None\n"
          ]
        }
      ]
    },
    {
      "cell_type": "code",
      "source": [
        ""
      ],
      "metadata": {
        "id": "B-xuPytY2nFf"
      },
      "execution_count": null,
      "outputs": []
    },
    {
      "cell_type": "code",
      "source": [
        ""
      ],
      "metadata": {
        "id": "eAacsVkl4rUG"
      },
      "execution_count": null,
      "outputs": []
    }
  ]
}