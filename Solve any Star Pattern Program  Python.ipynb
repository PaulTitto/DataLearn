{
 "cells": [
  {
   "cell_type": "markdown",
   "id": "52452bb6",
   "metadata": {},
   "source": [
    "### Simpler pyramid"
   ]
  },
  {
   "cell_type": "code",
   "execution_count": 60,
   "id": "a34c0ca0",
   "metadata": {},
   "outputs": [
    {
     "name": "stdout",
     "output_type": "stream",
     "text": [
      "* \r\n",
      "* * \r\n",
      "* * * \r\n",
      "* * * * \r\n",
      "* * * * * \r\n"
     ]
    }
   ],
   "source": [
    "n= 5\n",
    "for i in range(0,n):\n",
    "    for j in range(0, i+1):\n",
    "        print('* ', end=\"\")\n",
    "        \n",
    "    print(\"\\r\")"
   ]
  },
  {
   "cell_type": "markdown",
   "id": "39d9a312",
   "metadata": {},
   "source": [
    "### Square"
   ]
  },
  {
   "cell_type": "code",
   "execution_count": 38,
   "id": "e6b3b1fe",
   "metadata": {},
   "outputs": [
    {
     "name": "stdout",
     "output_type": "stream",
     "text": [
      "* * * * * \n",
      "* * * * * \n",
      "* * * * * \n",
      "* * * * * \n",
      "* * * * * \n"
     ]
    }
   ],
   "source": [
    "n = 5\n",
    "for i in range(n):\n",
    "    for j in range(n):\n",
    "        print('*', end=' ')\n",
    "    print()"
   ]
  },
  {
   "cell_type": "markdown",
   "id": "dace3181",
   "metadata": {},
   "source": [
    "### Increasing Triangel Pattrern"
   ]
  },
  {
   "cell_type": "code",
   "execution_count": 65,
   "id": "9cd76ad8",
   "metadata": {},
   "outputs": [
    {
     "name": "stdout",
     "output_type": "stream",
     "text": [
      "        * \r\n",
      "      * * \r\n",
      "    * * * \r\n",
      "  * * * * \r\n",
      "* * * * * \r\n"
     ]
    }
   ],
   "source": [
    "n = 5\n",
    "k = 2*n-2\n",
    "for i in range(0,n):\n",
    "    for j in range(0, k):\n",
    "        print(end=' ')\n",
    "        \n",
    "    k  = k - 2\n",
    "    \n",
    "    for j in range(0, i+1):\n",
    "        print(\"* \", end=\"\")\n",
    "    print(\"\\r\")\n",
    "    "
   ]
  },
  {
   "cell_type": "markdown",
   "id": "faa23537",
   "metadata": {},
   "source": [
    "### Decreasing Triangel Pattern"
   ]
  },
  {
   "cell_type": "code",
   "execution_count": 42,
   "id": "00ee1ff5",
   "metadata": {},
   "outputs": [
    {
     "name": "stdout",
     "output_type": "stream",
     "text": [
      "* * * * * \n",
      "* * * * \n",
      "* * * \n",
      "* * \n",
      "* \n"
     ]
    }
   ],
   "source": [
    "n = 5\n",
    "for i in range(n):\n",
    "    for j in range(i, n):\n",
    "        print('*', end=' ')\n",
    "    print()"
   ]
  },
  {
   "cell_type": "markdown",
   "id": "508ca0f5",
   "metadata": {},
   "source": [
    "### Right Sided Triangle"
   ]
  },
  {
   "cell_type": "code",
   "execution_count": 55,
   "id": "a3c7e022",
   "metadata": {},
   "outputs": [
    {
     "name": "stdout",
     "output_type": "stream",
     "text": [
      "*****\n",
      "****\n",
      "***\n",
      "**\n",
      "*\n"
     ]
    }
   ],
   "source": [
    "n = 5\n",
    "for i in range(n):\n",
    "    \n",
    "    for j in range(i+1):\n",
    "        print('',end='')\n",
    "        \n",
    "    for j in range(i, n):\n",
    "        print('*',end='')\n",
    "    print()"
   ]
  },
  {
   "cell_type": "markdown",
   "id": "407c3222",
   "metadata": {},
   "source": [
    "### Hill Pattern"
   ]
  },
  {
   "cell_type": "code",
   "execution_count": 68,
   "id": "035ede38",
   "metadata": {},
   "outputs": [
    {
     "name": "stdout",
     "output_type": "stream",
     "text": [
      "    * \r\n",
      "   * * \r\n",
      "  * * * \r\n",
      " * * * * \r\n",
      "* * * * * \r\n"
     ]
    }
   ],
   "source": [
    "n = 5\n",
    "k = n-1\n",
    "for i in range(0,n):\n",
    "    for j in range(0, k):\n",
    "        print(end=\" \")\n",
    "    k = k -1\n",
    "    for j in range(0, i+1):\n",
    "        print(\"* \", end=\"\")\n",
    "    \n",
    "    print(\"\\r\")"
   ]
  },
  {
   "cell_type": "code",
   "execution_count": null,
   "id": "064ff5c3",
   "metadata": {},
   "outputs": [],
   "source": []
  }
 ],
 "metadata": {
  "kernelspec": {
   "display_name": "Python 3 (ipykernel)",
   "language": "python",
   "name": "python3"
  },
  "language_info": {
   "codemirror_mode": {
    "name": "ipython",
    "version": 3
   },
   "file_extension": ".py",
   "mimetype": "text/x-python",
   "name": "python",
   "nbconvert_exporter": "python",
   "pygments_lexer": "ipython3",
   "version": "3.9.7"
  }
 },
 "nbformat": 4,
 "nbformat_minor": 5
}
